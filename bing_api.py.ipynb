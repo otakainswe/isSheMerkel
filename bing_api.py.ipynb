{
 "cells": [
  {
   "cell_type": "code",
   "execution_count": 1,
   "metadata": {
    "scrolled": true
   },
   "outputs": [
    {
     "name": "stdout",
     "output_type": "stream",
     "text": [
      "/Users/takayuki\n"
     ]
    }
   ],
   "source": [
    "cd"
   ]
  },
  {
   "cell_type": "code",
   "execution_count": 15,
   "metadata": {},
   "outputs": [
    {
     "name": "stdout",
     "output_type": "stream",
     "text": [
      "[Errno 20] Not a directory: '/Users/takayuki/Document/machine_learning/bing_api.py.ipynb'\n",
      "/Users/takayuki/Document/machine_learning\n"
     ]
    }
   ],
   "source": [
    "cd /Users/takayuki/Document/machine_learning/bing_api.py.ipynb"
   ]
  },
  {
   "cell_type": "code",
   "execution_count": 16,
   "metadata": {},
   "outputs": [
    {
     "name": "stdout",
     "output_type": "stream",
     "text": [
      "[Errno 20] Not a directory: '/Users/takayuki/Document/machine_learning/bing_api.py.ipynb'\n",
      "/Users/takayuki/Document/machine_learning\n"
     ]
    }
   ],
   "source": [
    "cd \"/Users/takayuki/Document/machine_learning/bing_api.py.ipynb\""
   ]
  },
  {
   "cell_type": "code",
   "execution_count": 17,
   "metadata": {},
   "outputs": [
    {
     "data": {
      "text/plain": [
       "'/Users/takayuki/Document/machine_learning'"
      ]
     },
     "execution_count": 17,
     "metadata": {},
     "output_type": "execute_result"
    }
   ],
   "source": [
    "pwd"
   ]
  },
  {
   "cell_type": "code",
   "execution_count": 18,
   "metadata": {
    "scrolled": true
   },
   "outputs": [
    {
     "name": "stdout",
     "output_type": "stream",
     "text": [
      "/Users/takayuki/Document/machine_learning\n"
     ]
    }
   ],
   "source": [
    "cd /Users/takayuki/Document/machine_learning"
   ]
  },
  {
   "cell_type": "code",
   "execution_count": null,
   "metadata": {},
   "outputs": [],
   "source": []
  },
  {
   "cell_type": "code",
   "execution_count": 22,
   "metadata": {},
   "outputs": [
    {
     "name": "stdout",
     "output_type": "stream",
     "text": [
      "totalEstimatedMatches=883\n",
      "len=150\n",
      "offset_count=6\n",
      "len=150\n",
      "len=150\n",
      "len=150\n",
      "len=150\n",
      "len=133\n"
     ]
    }
   ],
   "source": [
    "# coding: utf-8\n",
    "import requests\n",
    "import os\n",
    "import math\n",
    "import configparser # for Python3\n",
    "import urllib\n",
    "import re\n",
    "import datetime\n",
    "\n",
    "import bing_util\n",
    "\n",
    "def get_headers(api_key):\n",
    "    return {\"Ocp-Apim-Subscription-Key\" : api_key}\n",
    "\n",
    "def get_params(search_term, num_imgs_per_transaction, offset):\n",
    "    return urllib.parse.urlencode({\n",
    "        \"q\": search_term,\n",
    "        \"license\": \"All\",\n",
    "        \"imageType\": \"photo\",\n",
    "        \"count\":num_imgs_per_transaction,\n",
    "        \"offset\": offset * num_imgs_per_transaction,\n",
    "        \"mkt\":\"ja-JP\"})\n",
    "\n",
    "def get_search_results(search_url, headers, params):\n",
    "    response = requests.get(search_url, headers=headers, params=params)\n",
    "    response.raise_for_status()\n",
    "    search_results = response.json()\n",
    "    return search_results\n",
    "\n",
    "def save_urls(results, filepath):    \n",
    "    with open(filepath, mode='a') as f:\n",
    "        for values in results:\n",
    "            if values['encodingFormat'] == 'jpeg':\n",
    "                print(values['contentUrl'], file=f)\n",
    "\n",
    "def get_filename(path, fn, ext):\n",
    "    return os.path.join(path, '%s.%s' % (fn, ext))\n",
    "\n",
    "def gen_url_save_file(search_term, url_dir_path, total_count):\n",
    "    ext = 'txt'\n",
    "    fn = bing_util.search_term2file_name(search_term)\n",
    "    filename = get_filename(url_dir_path, fn, ext)\n",
    "    dt = datetime.datetime.now().strftime(\"%Y%m%d%H%M%S\")\n",
    "\n",
    "    if os.path.isfile(filename):\n",
    "        fn = '%s_%s' % (fn, dt)\n",
    "        filename = get_filename(url_dir_path, fn, ext)\n",
    "    with open(filename, mode='w') as f:\n",
    "        print(\"date=%s, search_term=%s, totalEstimatedMatches=%d\" % (dt, search_term, total_count), file=f)\n",
    "    return filename\n",
    "\n",
    "\n",
    "if __name__ == '__main__':\n",
    "    config = configparser.ConfigParser()\n",
    "    config.read('authentication.ini')\n",
    "    bing_api_key = config['auth']['bing_api_key']\n",
    "\n",
    "    save_dir_path = '/Users/takayuki/Document/machine_learning'\n",
    "    bing_util.make_dir(save_dir_path)\n",
    "    url_dir_path = os.path.join(save_dir_path, 'url')\n",
    "    bing_util.make_dir(url_dir_path)\n",
    "\n",
    "    num_imgs_required = 1000 # Number of images you want.\n",
    "    num_imgs_per_transaction =150 # default 30, Max 150 images\n",
    "    search_term = \"Hillary Clinton\"\n",
    "\n",
    "    search_url = \"https://api.cognitive.microsoft.com/bing/v7.0/images/search\"\n",
    "\n",
    "    headers = get_headers(bing_api_key)\n",
    "    params = get_params(search_term, num_imgs_per_transaction, 0)\n",
    "\n",
    "    first_search_results = get_search_results(search_url, headers, params)\n",
    "    total_count = first_search_results[\"totalEstimatedMatches\"]\n",
    "    print(\"totalEstimatedMatches=%d\" % total_count)\n",
    "\n",
    "    filepath=gen_url_save_file(search_term, url_dir_path, total_count)\n",
    "\n",
    "    print (\"len=%d\" % (len(first_search_results[\"value\"])))\n",
    "    save_urls(first_search_results[\"value\"], filepath)\n",
    "\n",
    "    if num_imgs_required > total_count :\n",
    "        num_imgs_required = total_count\n",
    "\n",
    "    offset_count = math.ceil(num_imgs_required / num_imgs_per_transaction)\n",
    "    print('offset_count=%d' % offset_count)\n",
    "    for offset in range(1, offset_count):\n",
    "        params = get_params(search_term, num_imgs_per_transaction, offset)\n",
    "        search_results = get_search_results(search_url, headers, params)\n",
    "\n",
    "        print (\"len=%d\" % len(search_results[\"value\"]))\n",
    "        save_urls(search_results[\"value\"], filepath)"
   ]
  },
  {
   "cell_type": "code",
   "execution_count": null,
   "metadata": {},
   "outputs": [],
   "source": []
  },
  {
   "cell_type": "code",
   "execution_count": null,
   "metadata": {},
   "outputs": [],
   "source": []
  }
 ],
 "metadata": {
  "kernelspec": {
   "display_name": "Python 3",
   "language": "python",
   "name": "python3"
  },
  "language_info": {
   "codemirror_mode": {
    "name": "ipython",
    "version": 3
   },
   "file_extension": ".py",
   "mimetype": "text/x-python",
   "name": "python",
   "nbconvert_exporter": "python",
   "pygments_lexer": "ipython3",
   "version": "3.7.3"
  }
 },
 "nbformat": 4,
 "nbformat_minor": 2
}
